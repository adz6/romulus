{
 "cells": [
  {
   "cell_type": "code",
   "execution_count": 6,
   "id": "designing-junior",
   "metadata": {},
   "outputs": [],
   "source": [
    "import MFParse\n",
    "import numpy as np\n",
    "import matplotlib.pyplot as plt\n",
    "import h5py"
   ]
  },
  {
   "cell_type": "code",
   "execution_count": 7,
   "id": "curious-replication",
   "metadata": {},
   "outputs": [],
   "source": [
    "file = '/Users/ziegler/p8/locust_mc_Seed371_Angle87.0700_Pos0.000.egg'\n",
    "\n",
    "f = h5py.File(file, 'r')"
   ]
  },
  {
   "cell_type": "code",
   "execution_count": 12,
   "id": "proof-portugal",
   "metadata": {},
   "outputs": [
    {
     "name": "stdout",
     "output_type": "stream",
     "text": [
      "<KeysViewHDF5 ['channel0', 'channel1', 'channel10', 'channel11', 'channel12', 'channel13', 'channel14', 'channel15', 'channel16', 'channel17', 'channel18', 'channel19', 'channel2', 'channel20', 'channel21', 'channel22', 'channel23', 'channel24', 'channel25', 'channel26', 'channel27', 'channel28', 'channel29', 'channel3', 'channel30', 'channel31', 'channel32', 'channel33', 'channel34', 'channel35', 'channel36', 'channel37', 'channel38', 'channel39', 'channel4', 'channel40', 'channel41', 'channel42', 'channel43', 'channel44', 'channel45', 'channel46', 'channel47', 'channel48', 'channel49', 'channel5', 'channel50', 'channel51', 'channel52', 'channel53', 'channel54', 'channel55', 'channel56', 'channel57', 'channel58', 'channel59', 'channel6', 'channel7', 'channel8', 'channel9']>\n"
     ]
    }
   ],
   "source": [
    "print(f['channels'].keys())"
   ]
  },
  {
   "cell_type": "code",
   "execution_count": null,
   "id": "appointed-number",
   "metadata": {},
   "outputs": [],
   "source": []
  }
 ],
 "metadata": {
  "kernelspec": {
   "display_name": "Python 3",
   "language": "python",
   "name": "python3"
  },
  "language_info": {
   "codemirror_mode": {
    "name": "ipython",
    "version": 3
   },
   "file_extension": ".py",
   "mimetype": "text/x-python",
   "name": "python",
   "nbconvert_exporter": "python",
   "pygments_lexer": "ipython3",
   "version": "3.9.1"
  }
 },
 "nbformat": 4,
 "nbformat_minor": 5
}
